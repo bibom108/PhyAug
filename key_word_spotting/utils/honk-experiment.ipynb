{
 "cells": [
  {
   "cell_type": "code",
   "execution_count": 1,
   "metadata": {},
   "outputs": [],
   "source": [
    "from chainmap import ChainMap\n",
    "from torch.autograd import Variable\n",
    "import librosa\n",
    "import numpy as np\n",
    "import torch\n",
    "import torch.nn as nn\n",
    "import torch.nn.functional as F\n",
    "import torch.utils.data as data\n",
    "\n",
    "from manage_audio import AudioPreprocessor\n",
    "import librosa.display\n",
    "import matplotlib.pyplot as plt"
   ]
  },
  {
   "cell_type": "code",
   "execution_count": null,
   "metadata": {},
   "outputs": [],
   "source": []
  },
  {
   "cell_type": "code",
   "execution_count": 2,
   "metadata": {},
   "outputs": [],
   "source": [
    "#########\n",
    "# implemented by wj\n",
    "def fft_to_obtain_tf(x1,x2):\n",
    "    sample_rate = 16000\n",
    "    window = 'hann'\n",
    "    n_fft = 480\n",
    "    win_length = n_fft\n",
    "    hop_length = 160\n",
    "    \n",
    "    r1 = 4*sample_rate - 1\n",
    "    r2 = 304*sample_rate\n",
    "    \n",
    "    y1 = librosa.core.load(x1, sr=16000)[0]\n",
    "    y2 = librosa.core.load(x2, sr=16000)[0]\n",
    "    y1 = y1 - y1.mean()\n",
    "    y2 = y2 - y2.mean()\n",
    "\n",
    "    # STFT\n",
    "    FFT1 = librosa.stft(y1[r1:r2], n_fft=n_fft, hop_length=hop_length,\n",
    "                     win_length=win_length, window=window)\n",
    "    print(\"FFT1 shape: \",FFT1.shape)\n",
    "    FFT1_abs = np.abs(FFT1)\n",
    "    FFT1_mean = np.mean(FFT1_abs,axis=1)\n",
    "    \n",
    "    FFT2 = librosa.stft(y2[r1:r2], n_fft=n_fft, hop_length=hop_length,\n",
    "                     win_length=win_length, window=window)\n",
    "    FFT2_abs = np.abs(FFT2)\n",
    "    FFT2_mean = np.mean(FFT2_abs,axis=1)\n",
    "    \n",
    "    TF = np.divide(FFT2_mean,FFT1_mean)\n",
    "    return TF[:,None]/TF.max()\n",
    "# no normalization\n",
    "def obtain_tf_no_norm(x1,x2):\n",
    "    sample_rate = 16000\n",
    "    window = 'hann'\n",
    "    n_fft = 480\n",
    "    win_length = n_fft\n",
    "    hop_length = 160\n",
    "\n",
    "    r1 = 4*sample_rate - 1\n",
    "    r2 = 304*sample_rate\n",
    "    \n",
    "    y1 = librosa.core.load(x1, sr=16000)[0]\n",
    "    y2 = librosa.core.load(x2, sr=16000)[0]\n",
    "    y1 = y1 - y1.mean()\n",
    "    y2 = y2 - y2.mean()    \n",
    "    # STFT\n",
    "    FFT1 = librosa.stft(y1[r1:r2], n_fft=n_fft, hop_length=hop_length,\n",
    "                     win_length=win_length, window=window)\n",
    "    FFT1_abs = np.abs(FFT1)\n",
    "    FFT1_mean = np.mean(FFT1_abs,axis=1)\n",
    "    \n",
    "    FFT2 = librosa.stft(y2[r1:r2], n_fft=n_fft, hop_length=hop_length,\n",
    "                     win_length=win_length, window=window)\n",
    "    FFT2_abs = np.abs(FFT2)\n",
    "    FFT2_mean = np.mean(FFT2_abs,axis=1)\n",
    "    \n",
    "    TF = np.divide(FFT2_mean,FFT1_mean)\n",
    "    return TF\n",
    "\n",
    "def obtain_tf_usb(x1,x2):\n",
    "    tf = obtain_tf_no_norm(x1,x2)\n",
    "    tf[:5] = 0\n",
    "    return tf[:,None]/tf.max()\n",
    "\n",
    "def stft_ave_no_DC(x):\n",
    "    sample_rate = 16000\n",
    "    window = 'hann'\n",
    "    n_fft = 480\n",
    "    win_length = n_fft\n",
    "    hop_length = 160\n",
    "    \n",
    "    normalize = 'True'\n",
    "    r1 = 4*sample_rate - 1\n",
    "    r2 = 304*sample_rate\n",
    "    \n",
    "    y = librosa.core.load(x, sr=16000)[0]\n",
    "    y -= y.mean()\n",
    "    \n",
    "    # STFT\n",
    "    FFT = librosa.stft(y[r1:r2], n_fft=n_fft, hop_length=hop_length,\n",
    "                     win_length=win_length, window=window)\n",
    "    FFT_abs = np.abs(FFT)\n",
    "    FFT_mean = np.mean(FFT_abs,axis=1)\n",
    "\n",
    "    return FFT_mean[:,None]/FFT_mean.max()"
   ]
  },
  {
   "cell_type": "markdown",
   "metadata": {},
   "source": [
    "## load audio"
   ]
  },
  {
   "cell_type": "code",
   "execution_count": 3,
   "metadata": {},
   "outputs": [],
   "source": [
    "file_data = \"../speech_dataset/yes/834f03fe_nohash_0.wav\"\n",
    "in_len = 16000 #1s=16000Hz\n",
    "data = librosa.core.load(file_data, sr=16000)[0]\n",
    "# pad data with 0s if less than 1s\n",
    "data = np.pad(data, (0, max(0, in_len - len(data))), \"constant\")"
   ]
  },
  {
   "cell_type": "code",
   "execution_count": 4,
   "metadata": {},
   "outputs": [
    {
     "name": "stdout",
     "output_type": "stream",
     "text": [
      "len of data 16000, padded 0 = 0\n"
     ]
    }
   ],
   "source": [
    "print(f'len of data {len(data)}, padded 0 = {in_len - len(data)}')"
   ]
  },
  {
   "cell_type": "code",
   "execution_count": 5,
   "metadata": {},
   "outputs": [
    {
     "name": "stdout",
     "output_type": "stream",
     "text": [
      "(1, 400, 40)\n"
     ]
    }
   ],
   "source": [
    "d = data.reshape(1,-1,40)\n",
    "print(d.shape)"
   ]
  },
  {
   "cell_type": "code",
   "execution_count": 6,
   "metadata": {},
   "outputs": [],
   "source": [
    "audio_processor = AudioPreprocessor(n_mels=40, n_dct_filters=40, hop_ms=10)"
   ]
  },
  {
   "cell_type": "code",
   "execution_count": 7,
   "metadata": {},
   "outputs": [
    {
     "data": {
      "text/plain": [
       "torch.Size([1, 101, 40])"
      ]
     },
     "execution_count": 7,
     "metadata": {},
     "output_type": "execute_result"
    }
   ],
   "source": [
    "audio_tensor = torch.from_numpy(audio_processor.compute_mfccs(data).reshape(1,-1,40))\n",
    "audio_tensor.shape"
   ]
  },
  {
   "cell_type": "markdown",
   "metadata": {},
   "source": [
    "### Librosa library to compute MFCC from time series data input"
   ]
  },
  {
   "cell_type": "code",
   "execution_count": 8,
   "metadata": {},
   "outputs": [
    {
     "name": "stdout",
     "output_type": "stream",
     "text": [
      "(16000,) (40, 101)\n"
     ]
    }
   ],
   "source": [
    "# mfcc_from_audio = librosa.feature.mfcc(y = librosa.core.load(file_data, sr=16000)[0], sr=16000, n_fft=480,hop_length=16000 // 1000*hop_ms,n_mfcc=40,fmin=20,fmax=4000)\n",
    "y,sr = librosa.core.load(file_data,sr=16000)\n",
    "hop_ms = 10\n",
    "mfcc_from_audio = librosa.feature.melspectrogram(y=y,\n",
    "                                                 sr=16000,\n",
    "                                                 n_fft=480,\n",
    "                                                 n_mels=40, \n",
    "                                                 hop_length=16000 // 1000*hop_ms,\n",
    "                                                 fmin=20,\n",
    "                                                 fmax=4000)\n",
    "\n",
    "# data = [np.matmul(40, x) for x in np.split(mfcc_from_audio, mfcc_from_audio.shape[1], axis=1)]\n",
    "# data = np.array(data, order=\"F\").astype(np.float32)\n",
    "\n",
    "\n",
    "print(y.shape, mfcc_from_audio.shape)\n",
    "# plt.figure(figsize=(10, 4))\n",
    "# librosa.display.specshow(mfcc_from_audio, x_axis='time')\n",
    "# plt.colorbar()\n",
    "# plt.title('MFCC')\n",
    "# plt.tight_layout()\n",
    "# plt.show()"
   ]
  },
  {
   "cell_type": "markdown",
   "metadata": {},
   "source": [
    "### compute from STFT"
   ]
  },
  {
   "cell_type": "code",
   "execution_count": 9,
   "metadata": {},
   "outputs": [
    {
     "name": "stdout",
     "output_type": "stream",
     "text": [
      "D shape is  (241, 101) mfcc_from_stft:  (40, 101)\n"
     ]
    }
   ],
   "source": [
    "D = np.abs(librosa.stft(y,n_fft=480,hop_length=16000 // 1000*hop_ms))**2\n",
    "# S = np.abs(stft(y, n_fft=n_fft, hop_length=hop_length,\n",
    "#                 win_length=win_length, center=center,\n",
    "#                 window=window, pad_mode=pad_mode))**power\n",
    "mfcc_from_stft = librosa.feature.melspectrogram(S=D,sr=sr,fmin=20,fmax=4000,n_mels=40)\n",
    "print('D shape is ',D.shape,'mfcc_from_stft: ',mfcc_from_stft.shape)"
   ]
  },
  {
   "cell_type": "code",
   "execution_count": null,
   "metadata": {},
   "outputs": [],
   "source": []
  },
  {
   "cell_type": "code",
   "execution_count": 10,
   "metadata": {},
   "outputs": [
    {
     "name": "stdout",
     "output_type": "stream",
     "text": [
      "mfcc_from_audio:  (40, 101)\n",
      "mfcc_from_stft:  (40, 101)\n"
     ]
    }
   ],
   "source": [
    "print('mfcc_from_audio: ',mfcc_from_audio.shape)\n",
    "print('mfcc_from_stft: ',mfcc_from_stft.shape)"
   ]
  },
  {
   "cell_type": "code",
   "execution_count": 11,
   "metadata": {},
   "outputs": [
    {
     "name": "stdout",
     "output_type": "stream",
     "text": [
      "[[8.48927153e-05 1.14961616e-04 2.23576849e-04 ... 2.98096314e-04\n",
      "  1.67167910e-04 6.75719060e-05]\n",
      " [2.67733915e-05 1.33207382e-05 3.77890135e-05 ... 3.89414109e-05\n",
      "  3.34360434e-05 2.74572130e-05]\n",
      " [1.04294118e-05 6.23694835e-06 1.68793542e-05 ... 3.33082724e-05\n",
      "  2.43904190e-05 4.50995464e-06]\n",
      " ...\n",
      " [1.58153090e-07 8.26728139e-08 5.77308737e-08 ... 3.04608037e-07\n",
      "  1.83972313e-07 3.10630168e-07]\n",
      " [2.11927209e-07 1.60246905e-07 6.54426109e-08 ... 2.30065555e-07\n",
      "  1.68758880e-07 1.36758565e-07]\n",
      " [3.71342753e-07 2.08993476e-07 6.58357908e-08 ... 5.15745669e-07\n",
      "  6.44651458e-07 5.25450417e-07]]\n"
     ]
    }
   ],
   "source": [
    "print(mfcc_from_audio)"
   ]
  },
  {
   "cell_type": "code",
   "execution_count": 12,
   "metadata": {},
   "outputs": [
    {
     "name": "stdout",
     "output_type": "stream",
     "text": [
      "[[8.48927153e-05 1.14961616e-04 2.23576849e-04 ... 2.98096314e-04\n",
      "  1.67167910e-04 6.75719060e-05]\n",
      " [2.67733915e-05 1.33207382e-05 3.77890135e-05 ... 3.89414109e-05\n",
      "  3.34360434e-05 2.74572130e-05]\n",
      " [1.04294118e-05 6.23694835e-06 1.68793542e-05 ... 3.33082724e-05\n",
      "  2.43904190e-05 4.50995464e-06]\n",
      " ...\n",
      " [1.58153090e-07 8.26728139e-08 5.77308737e-08 ... 3.04608037e-07\n",
      "  1.83972313e-07 3.10630168e-07]\n",
      " [2.11927209e-07 1.60246905e-07 6.54426109e-08 ... 2.30065555e-07\n",
      "  1.68758880e-07 1.36758565e-07]\n",
      " [3.71342753e-07 2.08993476e-07 6.58357908e-08 ... 5.15745669e-07\n",
      "  6.44651458e-07 5.25450417e-07]]\n"
     ]
    }
   ],
   "source": [
    "print(mfcc_from_stft)"
   ]
  },
  {
   "cell_type": "code",
   "execution_count": 13,
   "metadata": {},
   "outputs": [
    {
     "name": "stdout",
     "output_type": "stream",
     "text": [
      "FFT1 shape:  (241, 30001)\n",
      "FFT1 shape:  (241, 30001)\n",
      "FFT1 shape:  (241, 30001)\n",
      "FFT1 shape:  (241, 30001)\n",
      "FFT1 shape:  (241, 30001)\n"
     ]
    }
   ],
   "source": [
    "## modify from here\n",
    "flist = [\n",
    "    \"/data1/wenjie/github/deepspeech.pytorch/data/audio/TR2_loc1/white-noise-true-20min.wav\",\n",
    "    \"/data1/wenjie/github/honk/speech_dataset_wenjie/meetingroom/loc2-45cm-10cmd/white-noise/convert/ATR-white.wav\",\n",
    "    \"/data1/wenjie/github/honk/speech_dataset_wenjie/meetingroom/loc2-45cm-10cmd/white-noise/convert/clipon-white.wav\",\n",
    "    \"/data1/wenjie/github/honk/speech_dataset_wenjie/meetingroom/loc2-45cm-10cmd/white-noise/convert/maono-white.wav\",\n",
    "    \"/data1/wenjie/github/honk/speech_dataset_wenjie/meetingroom/loc2-45cm-10cmd/white-noise/convert/USB-white.wav\",\n",
    "    \"/data1/wenjie/github/honk/speech_dataset_wenjie/meetingroom/loc2-45cm-10cmd/white-noise/convert/USBplug-white.wav\",\n",
    "    \"/data1/wenjie/github/deepspeech.pytorch/librispeech/test_wj/converted/Meeting-room/loc1-iph7/convert/ATR-silence.wav\",\n",
    "    \"/data1/wenjie/github/deepspeech.pytorch/librispeech/test_wj/converted/Meeting-room/loc1-iph7/convert/clipon-silence.wav\",\n",
    "    \"/data1/wenjie/github/deepspeech.pytorch/librispeech/test_wj/converted/Meeting-room/loc1-iph7/convert/maono-silence.wav\",\n",
    "    \"/data1/wenjie/github/deepspeech.pytorch/librispeech/test_wj/converted/Meeting-room/loc1-iph7/convert/USB-silence.wav\",\n",
    "    \"/data1/wenjie/github/deepspeech.pytorch/librispeech/test_wj/converted/Meeting-room/loc1-iph7/convert/USBplug-silence.wav\"\n",
    "    ]\n",
    "def fft_to_obtain_inverse_tf(x1,x2):\n",
    "    sample_rate = 16000\n",
    "    window = 'hann'\n",
    "    n_fft = 480\n",
    "    win_length = n_fft\n",
    "    hop_length = 160\n",
    "    \n",
    "    r1 = 4*sample_rate - 1\n",
    "    r2 = 304*sample_rate\n",
    "    \n",
    "    y1 = librosa.core.load(x1, sr=16000)[0]\n",
    "    y2 = librosa.core.load(x2, sr=16000)[0]\n",
    "    y1 = y1 - y1.mean()\n",
    "    y2 = y2 - y2.mean()\n",
    "\n",
    "    # STFT\n",
    "    FFT1 = librosa.stft(y1[r1:r2], n_fft=n_fft, hop_length=hop_length,\n",
    "                     win_length=win_length, window=window)\n",
    "    print(\"FFT1 shape: \",FFT1.shape)\n",
    "    FFT1_abs = np.abs(FFT1)\n",
    "    FFT1_mean = np.mean(FFT1_abs,axis=1)\n",
    "    FFT1_mean = FFT1_mean/FFT1_mean.max()\n",
    "    \n",
    "    FFT2 = librosa.stft(y2[r1:r2], n_fft=n_fft, hop_length=hop_length,\n",
    "                     win_length=win_length, window=window)\n",
    "    FFT2_abs = np.abs(FFT2)\n",
    "    FFT2_mean = np.mean(FFT2_abs,axis=1)\n",
    "    FFT2_mean = FFT2_mean/FFT2_mean.max()\n",
    "    \n",
    "    TF = np.divide(FFT1_mean,FFT2_mean)\n",
    "    return TF[:,None]\n",
    "# tf_atr = fft_to_obtain_tf(flist[0],flist[1]) + stft_ave_no_DC(flist[6])\n",
    "# tf_clipon = obtain_tf_usb(flist[0],flist[2]) + stft_ave_no_DC(flist[7]) # obtain transfer function\n",
    "# tf_maono = fft_to_obtain_tf(flist[0],flist[3]) + stft_ave_no_DC(flist[8]) # obtain transfer function\n",
    "# tf_USB = obtain_tf_usb(flist[0],flist[4]) + stft_ave_no_DC(flist[9]) # obtain transfer function\n",
    "# tf_USBplug = obtain_tf_usb(flist[0],flist[5]) + stft_ave_no_DC(flist[10]) # obtain transfer function\n",
    "\n",
    "tf_atr = fft_to_obtain_inverse_tf(flist[0],flist[1]) #+ stft_ave_no_DC(flist[6])\n",
    "tf_clipon = fft_to_obtain_inverse_tf(flist[0],flist[2]) #+ stft_ave_no_DC(flist[7])\n",
    "tf_maono = fft_to_obtain_inverse_tf(flist[0],flist[3]) #+ stft_ave_no_DC(flist[8])\n",
    "tf_USB = fft_to_obtain_inverse_tf(flist[0],flist[4]) #+ stft_ave_no_DC(flist[9])\n",
    "tf_USBplug = fft_to_obtain_inverse_tf(flist[0],flist[5]) #+ stft_ave_no_DC(flist[10])\n"
   ]
  },
  {
   "cell_type": "code",
   "execution_count": 14,
   "metadata": {},
   "outputs": [
    {
     "data": {
      "text/plain": [
       "(241, 1)"
      ]
     },
     "execution_count": 14,
     "metadata": {},
     "output_type": "execute_result"
    }
   ],
   "source": [
    "tf_atr.shape"
   ]
  },
  {
   "cell_type": "code",
   "execution_count": 15,
   "metadata": {},
   "outputs": [
    {
     "data": {
      "image/png": "[encoded data removed]",
      "text/plain": [
       "<Figure size 432x288 with 1 Axes>"
      ]
     },
     "metadata": {
      "needs_background": "light"
     },
     "output_type": "display_data"
    }
   ],
   "source": [
    "f = np.linspace(0,1,241)*16000/2\n",
    "tf = [tf_atr,tf_clipon,tf_maono,tf_USB,tf_USBplug]\n",
    "# plt.plot(f,tf[index],'r',label=index)\n",
    "plt.plot(f[0:230],tf[0][0:230],'r',label='ATR')\n",
    "plt.plot(f[0:230],tf[1][0:230],'b',label='clipon')\n",
    "plt.plot(f[0:230],tf[2][0:230],'g',label='maono')\n",
    "plt.plot(f[0:230],tf[3][0:230],'k',label='USB')\n",
    "plt.plot(f[0:230],tf[4][0:230],'m',label='USBplug')\n",
    "plt.legend()\n",
    "plt.show()"
   ]
  },
  {
   "cell_type": "code",
   "execution_count": 151,
   "metadata": {},
   "outputs": [],
   "source": [
    "new_tf = np.concatenate((f.reshape(-1,1),\n",
    "                         tf_atr.reshape(-1,1),\n",
    "                         tf_clipon.reshape(-1,1),\n",
    "                         tf_maono.reshape(-1,1),\n",
    "                         tf_USB.reshape(-1,1),\n",
    "                         tf_USBplug.reshape(-1,1)),\n",
    "                         axis=1)"
   ]
  },
  {
   "cell_type": "code",
   "execution_count": 152,
   "metadata": {},
   "outputs": [],
   "source": [
    "new_tf.shape\n",
    "np.savetxt(\"mic-tf.csv\", new_tf, delimiter=\",\",fmt='%.4e')"
   ]
  },
  {
   "cell_type": "code",
   "execution_count": null,
   "metadata": {},
   "outputs": [],
   "source": []
  },
  {
   "cell_type": "code",
   "execution_count": 155,
   "metadata": {},
   "outputs": [],
   "source": [
    "#mfcc_from_stft_new = librosa.feature.melspectrogram(S=new_D,sr=sr,fmin=20,fmax=4000,n_mels=40)\n",
    "#print(mfcc_from_stft_new.shape)"
   ]
  },
  {
   "cell_type": "code",
   "execution_count": 156,
   "metadata": {},
   "outputs": [
    {
     "name": "stdout",
     "output_type": "stream",
     "text": [
      "mean 3.0, mean = 0.816496580927726\n"
     ]
    }
   ],
   "source": [
    "arr = np.array([2,3,4])\n",
    "mean = arr.mean()\n",
    "std = arr.std()\n",
    "print(f'mean {mean}, mean = {std}')"
   ]
  },
  {
   "cell_type": "code",
   "execution_count": 157,
   "metadata": {},
   "outputs": [
    {
     "name": "stdout",
     "output_type": "stream",
     "text": [
      "[-1.22474487  0.          1.22474487]\n"
     ]
    }
   ],
   "source": [
    "arr_nor = (arr - mean)/std\n",
    "print(arr_nor)"
   ]
  },
  {
   "cell_type": "code",
   "execution_count": 158,
   "metadata": {},
   "outputs": [],
   "source": [
    "y1 = librosa.core.load(flist[0], sr=16000)[0]"
   ]
  },
  {
   "cell_type": "code",
   "execution_count": 159,
   "metadata": {},
   "outputs": [
    {
     "name": "stdout",
     "output_type": "stream",
     "text": [
      "FFT1 shape:  (241, 30001)\n"
     ]
    }
   ],
   "source": [
    "tf_atr = fft_to_obtain_tf(flist[0],flist[1])"
   ]
  },
  {
   "cell_type": "code",
   "execution_count": 160,
   "metadata": {},
   "outputs": [
    {
     "name": "stdout",
     "output_type": "stream",
     "text": [
      "[0.25 1.   1.  ]\n"
     ]
    }
   ],
   "source": [
    "a = np.array([1,2,3])\n",
    "b = np.array([4,2,3])\n",
    "c = a/b\n",
    "print(c)"
   ]
  },
  {
   "cell_type": "code",
   "execution_count": 161,
   "metadata": {},
   "outputs": [
    {
     "data": {
      "image/png": "[encoded data removed]",
      "text/plain": [
       "<Figure size 432x288 with 1 Axes>"
      ]
     },
     "metadata": {
      "needs_background": "light"
     },
     "output_type": "display_data"
    }
   ],
   "source": [
    "flist = [\n",
    "    \"/data1/wenjie/github/deepspeech.pytorch/data/audio/TR2_loc1/white-noise-true-20min.wav\",\n",
    "    \"/data1/wenjie/github/honk/speech_dataset_wenjie/meetingroom/loc2-45cm/white-noise/convert/USB-white.wav\",\n",
    "    \"/data1/wenjie/github/honk/speech_dataset_wenjie/meetingroom/loc2-45cm/white-noise/convert/USBplug-white.wav\",\n",
    "    \"/data1/wenjie/github/honk/speech_dataset_wenjie/meetingroom/loc2-45cm-10cmd/white-noise/convert/USB-white.wav\",\n",
    "    \"/data1/wenjie/github/honk/speech_dataset_wenjie/meetingroom/loc2-45cm-10cmd/white-noise/convert/USBplug-white.wav\",\n",
    "    \"/data1/wenjie/github/deepspeech.pytorch/librispeech/test_wj/converted/Meeting-room/loc1-iph7/convert/ATR-silence.wav\",\n",
    "    \"/data1/wenjie/github/deepspeech.pytorch/librispeech/test_wj/converted/Meeting-room/loc1-iph7/convert/clipon-silence.wav\",\n",
    "    \"/data1/wenjie/github/deepspeech.pytorch/librispeech/test_wj/converted/Meeting-room/loc1-iph7/convert/maono-silence.wav\",\n",
    "    \"/data1/wenjie/github/deepspeech.pytorch/librispeech/test_wj/converted/Meeting-room/loc1-iph7/convert/USB-silence.wav\",\n",
    "    \"/data1/wenjie/github/deepspeech.pytorch/librispeech/test_wj/converted/Meeting-room/loc1-iph7/convert/USBplug-silence.wav\"\n",
    "    ]\n",
    "tf1 = obtain_tf_usb(flist[0],flist[2]) #+ stft_ave_no_DC(flist[6])\n",
    "tf2 = obtain_tf_usb(flist[0],flist[4]) #+ stft_ave_no_DC(flist[7])\n",
    "plt.plot(f,tf1,'k',label='tf1')\n",
    "plt.plot(f,tf2,'m',label='tf2')\n",
    "plt.legend()\n",
    "plt.show()"
   ]
  },
  {
   "cell_type": "markdown",
   "metadata": {},
   "source": [
    "Investigate on length of White Noise"
   ]
  },
  {
   "cell_type": "code",
   "execution_count": 16,
   "metadata": {},
   "outputs": [],
   "source": [
    "# implemented by wj\n",
    "flist = [\n",
    "    \"/data1/wenjie/github/deepspeech.pytorch/data/audio/TR2_loc1/white-noise-true-20min.wav\",\n",
    "    \"/data1/wenjie/github/honk/speech_dataset_wenjie/meetingroom/loc2-45cm-10cmd/white-noise/convert/ATR-white.wav\",\n",
    "    \"/data1/wenjie/github/deepspeech.pytorch/librispeech/test_wj/converted/Meeting-room/loc1-iph7/convert/ATR-silence.wav\"\n",
    "        ]\n",
    "def fft_to_obtain_tf_time(x1,x2,s):\n",
    "    # s in seconds\n",
    "    sample_rate = 16000\n",
    "    window = 'hann'\n",
    "    n_fft = 480\n",
    "    win_length = n_fft\n",
    "    hop_length = 160\n",
    "    \n",
    "    r1 = 0\n",
    "    r2 = int(s*sample_rate)\n",
    "    print(\"r1 is \",r1,\"r2 is \",r2)\n",
    "    \n",
    "    y1 = librosa.core.load(x1, sr=16000)[0]\n",
    "    y2 = librosa.core.load(x2, sr=16000)[0]\n",
    "    y1 = y1 - y1.mean()\n",
    "    y2 = y2 - y2.mean()\n",
    "\n",
    "    # STFT\n",
    "    FFT1 = librosa.stft(y1[r1:r2], n_fft=n_fft, hop_length=hop_length,\n",
    "                     win_length=win_length, window=window)\n",
    "    print(\"FFT1 shape: \",FFT1.shape)\n",
    "    FFT1_abs = np.abs(FFT1)\n",
    "    FFT1_mean = np.mean(FFT1_abs,axis=1)\n",
    "    \n",
    "    FFT2 = librosa.stft(y2[r1:r2], n_fft=n_fft, hop_length=hop_length,\n",
    "                     win_length=win_length, window=window)\n",
    "    FFT2_abs = np.abs(FFT2)\n",
    "    FFT2_mean = np.mean(FFT2_abs,axis=1)\n",
    "    \n",
    "    TF = np.divide(FFT2_mean,FFT1_mean)\n",
    "    return TF[:,None]/TF.max()"
   ]
  },
  {
   "cell_type": "code",
   "execution_count": 199,
   "metadata": {},
   "outputs": [
    {
     "name": "stdout",
     "output_type": "stream",
     "text": [
      "r1 is  0 r2 is  3200\n",
      "FFT1 shape:  (241, 21)\n",
      "r1 is  0 r2 is  6400\n",
      "FFT1 shape:  (241, 41)\n",
      "r1 is  0 r2 is  9600\n",
      "FFT1 shape:  (241, 61)\n",
      "r1 is  0 r2 is  12800\n",
      "FFT1 shape:  (241, 81)\n",
      "r1 is  0 r2 is  16000\n",
      "FFT1 shape:  (241, 101)\n",
      "r1 is  0 r2 is  32000\n",
      "FFT1 shape:  (241, 201)\n",
      "r1 is  0 r2 is  48000\n",
      "FFT1 shape:  (241, 301)\n",
      "r1 is  0 r2 is  80000\n",
      "FFT1 shape:  (241, 501)\n"
     ]
    }
   ],
   "source": [
    "tf_atr1= fft_to_obtain_tf_time(flist[0],flist[1],0.2) # + stft_ave_no_DC(flist[2])\n",
    "#tf_atr2 = fft_to_obtain_tf_time(flist[0],flist[1],0.4) # + stft_ave_no_DC(flist[2])\n",
    "#tf_atr3 = fft_to_obtain_tf_time(flist[0],flist[1],0.6) # + stft_ave_no_DC(flist[2])\n",
    "#tf_atr4 = fft_to_obtain_tf_time(flist[0],flist[1],0.8) # + stft_ave_no_DC(flist[2])\n",
    "tf_atr5 = fft_to_obtain_tf_time(flist[0],flist[1],1) # + stft_ave_no_DC(flist[2])\n",
    "#tf_atr6 = fft_to_obtain_tf_time(flist[0],flist[1],2) # + stft_ave_no_DC(flist[2])\n",
    "#tf_atr7 = fft_to_obtain_tf_time(flist[0],flist[1],3) # + stft_ave_no_DC(flist[2])\n",
    "tf_atr8 = fft_to_obtain_tf_time(flist[0],flist[1],5) # + stft_ave_no_DC(flist[2])"
   ]
  },
  {
   "cell_type": "code",
   "execution_count": 203,
   "metadata": {
    "scrolled": true
   },
   "outputs": [
    {
     "data": {
      "image/png": "[encoded data removed]",
      "text/plain": [
       "<Figure size 432x288 with 1 Axes>"
      ]
     },
     "metadata": {
      "needs_background": "light"
     },
     "output_type": "display_data"
    }
   ],
   "source": [
    "plt.plot(f,tf_atr1,'r',label='5')\n",
    "#plt.plot(f,tf_atr2,'b',label='15')\n",
    "plt.plot(f,tf_atr3,'g',label='30')\n",
    "#plt.plot(f,tf_atr4,'k',label='45')\n",
    "plt.plot(f,tf_atr5,'m',label='60')\n",
    "#plt.plot(f,tf_atr6,'c',label='120')\n",
    "#plt.plot(f,tf_atr7,'y',label='240')\n",
    "# plt.plot(f,tf_atr8,'w',label='300')\n",
    "plt.legend()\n",
    "plt.show()"
   ]
  },
  {
   "cell_type": "code",
   "execution_count": 168,
   "metadata": {},
   "outputs": [],
   "source": [
    "new_tf = np.concatenate((f.reshape(-1,1),\n",
    "                         tf_atr1.reshape(-1,1),\n",
    "                         tf_atr2.reshape(-1,1),\n",
    "                         tf_atr3.reshape(-1,1),\n",
    "                         tf_atr4.reshape(-1,1),\n",
    "                         tf_atr5.reshape(-1,1),\n",
    "                         tf_atr6.reshape(-1,1),\n",
    "                         tf_atr7.reshape(-1,1),\n",
    "                         tf_atr8.reshape(-1,1)),\n",
    "                         axis=1)\n",
    "np.savetxt(\"atr-tf-diff-length.csv\", new_tf, delimiter=\",\",fmt='%.4e')"
   ]
  },
  {
   "cell_type": "code",
   "execution_count": 169,
   "metadata": {},
   "outputs": [],
   "source": [
    "audio_dir = '/data1/wenjie/github/honk/speech_dataset_wenjie/meetingroom/loc2-45cm-10cmd/yes/convert/aligned/ATR-yes/0cb74144_nohash_0.wav'"
   ]
  },
  {
   "cell_type": "code",
   "execution_count": 192,
   "metadata": {},
   "outputs": [
    {
     "name": "stdout",
     "output_type": "stream",
     "text": [
      "(16000,) 16000\n",
      "(20, 101)\n"
     ]
    }
   ],
   "source": [
    "y,sr = librosa.load(audio_dir,sr=16000)\n",
    "print(y.shape,sr)\n",
    "S = librosa.feature.melspectrogram(y=y,\n",
    "                                   sr=sr,\n",
    "                                   n_mels=40,\n",
    "                                   hop_length=160,\n",
    "                                   fmin=20,\n",
    "                                   fmax=4000,\n",
    "                                  n_fft=480)\n",
    "mfcc = librosa.feature.mfcc(S=librosa.power_to_db(S))\n",
    "print(mfcc.shape)\n",
    "import matplotlib.pyplot as plt\n",
    "from matplotlib.backends.backend_agg import FigureCanvasAgg as FigureCanvas\n",
    "fig = plt.Figure()\n",
    "canvas = FigureCanvas(fig)\n",
    "ax = fig.add_subplot(111)\n",
    "p=librosa.display.specshow(mfcc, sr=16000,hop_length=160,ax=ax)\n",
    "# plt.colorbar()\n",
    "plt.show()\n",
    "fig.savefig('mfcc.svg')"
   ]
  },
  {
   "cell_type": "code",
   "execution_count": 172,
   "metadata": {},
   "outputs": [
    {
     "name": "stdout",
     "output_type": "stream",
     "text": [
      "(22050,) 22050\n"
     ]
    }
   ],
   "source": []
  },
  {
   "cell_type": "code",
   "execution_count": null,
   "metadata": {},
   "outputs": [],
   "source": []
  }
 ],
 "metadata": {
  "kernelspec": {
   "display_name": "Python 3",
   "language": "python",
   "name": "python3"
  },
  "language_info": {
   "codemirror_mode": {
    "name": "ipython",
    "version": 3
   },
   "file_extension": ".py",
   "mimetype": "text/x-python",
   "name": "python",
   "nbconvert_exporter": "python",
   "pygments_lexer": "ipython3",
   "version": "3.6.8"
  },
  "toc": {
   "base_numbering": 1,
   "nav_menu": {},
   "number_sections": true,
   "sideBar": true,
   "skip_h1_title": false,
   "title_cell": "Table of Contents",
   "title_sidebar": "Contents",
   "toc_cell": false,
   "toc_position": {},
   "toc_section_display": true,
   "toc_window_display": false
  }
 },
 "nbformat": 4,
 "nbformat_minor": 4
}
